{
  "nbformat": 4,
  "nbformat_minor": 0,
  "metadata": {
    "colab": {
      "provenance": [],
      "authorship_tag": "ABX9TyO4vtOFkAllpL8AG031DiSV",
      "include_colab_link": true
    },
    "kernelspec": {
      "name": "python3",
      "display_name": "Python 3"
    },
    "language_info": {
      "name": "python"
    }
  },
  "cells": [
    {
      "cell_type": "markdown",
      "metadata": {
        "id": "view-in-github",
        "colab_type": "text"
      },
      "source": [
        "<a href=\"https://colab.research.google.com/github/leejaehyeong1/machine_learning/blob/main/Untitled6.ipynb\" target=\"_parent\"><img src=\"https://colab.research.google.com/assets/colab-badge.svg\" alt=\"Open In Colab\"/></a>"
      ]
    },
    {
      "cell_type": "code",
      "execution_count": null,
      "metadata": {
        "id": "r4QEDUYZXZTW"
      },
      "outputs": [],
      "source": [
        "!wget https://bit.ly/fruits_300_data -O fruits_300.npy\n",
        "import numpy as np\n",
        "fruits = np.load('fruits_300.npy')\n"
      ]
    },
    {
      "cell_type": "markdown",
      "source": [
        "Colab 코드 셀에서 ! 표로 시작하면 코랩은 그 다음에 나오는 명령을 리눅스 쉘(shell) 명령으로 이해함. wget 명령은 원격 사이트에서 데이터를 다운로드함함. -O 옵션으로 저장할 파일을 지정함.\n",
        "\n",
        "이 명령을 실행하고 나서 코랩의 왼쪽 side bar 위쪽 폴더(folder) 탭을 열면 fruits_300.npy 파일이 저장된 것을 볼 수 있음"
      ],
      "metadata": {
        "id": "mJ07fjvHXd5h"
      }
    },
    {
      "cell_type": "code",
      "source": [
        "#3차원 배열 데이터를 2차원배열로 변경\n",
        "fruits_2d = fruits.reshape(-1,100*100)\n",
        "print(fruits.shape)\n",
        "print(fruits_2d.shape)"
      ],
      "metadata": {
        "id": "f9Ev6XdpXfnS"
      },
      "execution_count": null,
      "outputs": []
    },
    {
      "cell_type": "markdown",
      "source": [
        "넘파이에서 npy 파일을 로드하려면 load() 메쏘드를 이용함. fruits 는 넘파이 배열임. shape() 함수를 써서 배열 크기를 확인해 보면 3차원 배열임을 알 수 있음\n",
        "\n",
        "fruits_2d는 2차원 배열 형식의 100x100 픽셀을 1차원 배열로 변환한 300장 사진을 의미함"
      ],
      "metadata": {
        "id": "KTod8FENXg5q"
      }
    },
    {
      "cell_type": "code",
      "source": [
        "from sklearn.cluster import KMeans\n",
        "km = KMeans(n_clusters=3, random_state=42)\n",
        "km.fit(fruits_2d)\n",
        "print(km.labels_)\n",
        "print(np.unique(km.labels_, return_counts=True))\n"
      ],
      "metadata": {
        "id": "Iz-BEKg_Xhvv"
      },
      "execution_count": null,
      "outputs": []
    },
    {
      "cell_type": "markdown",
      "source": [
        "sklearn.cluster 아래에 있는 KMeans 클래스를 이용해 km 이라는 객체를 만듦.\n",
        "군집, 즉 클러스터 의 수는 n_clusters=3 으로 지정해 줌. 사과, 바나나, 파인애플 세 과일이 있으니 이 실습에서는 3임\n",
        "\n",
        "KMeans 알고리듬이 이 클래스에 구현되어 있는데, 알고리듬은 2차원 배열을 훈련시킴. 그래서 3차원 사진들을 2차원 배열로 변환한 것임.\n",
        "지도학습처럼 답을 주는 것이 아니므로 fit 함수에 타깃 데이터를 주지 않음\n",
        "\n",
        "주어진 사진의 레이블을 출력해 보면 0,1,2 수가 반복되니 과일 종류가 세 가지임을 알 수 있음. 그러나 0,1,2 가 각각 어느 과일인지는 모름(비지도학습이라서 답을 주지 않았으므로). 다만 세 가지 종류가 있음을 의미함. 또한 첫 5개 사진이 모두 같은 과일임을 알 수 있음"
      ],
      "metadata": {
        "id": "bcE1d0ZUXir_"
      }
    },
    {
      "cell_type": "code",
      "source": [
        "import matplotlib.pyplot as plt\n",
        "def draw_fruits(arr, ratio=1) :\n",
        "  n=len(arr)  #  n 은 샘플 갯수임\n",
        "  # 한 줄에 10개씩 이미지를 그림. 샘플 갯수를 10으로 나눠 전체 행 갯수를 계산할 수 있음\n",
        "  rows = int(np.ceil(n/10))\n",
        "  # 행이 1개이면 열의 갯수가 샘플 갯수임. 그렇지 않으면 10개임\n",
        "  cols = n if rows<2 else 10\n",
        "  fig, axs = plt.subplots(rows, cols, figsize=(cols*ratio, rows*ratio), squeeze=False)\n",
        "\n",
        "  for i in range(rows) :\n",
        "    for j in range(cols) :\n",
        "      if i*10+j < n :\n",
        "        axs[i,j].imshow(arr[i*10+j], cmap='gray_r')\n",
        "      axs[i,j].axis('off')\n",
        "  plt.show()"
      ],
      "metadata": {
        "id": "fPEb2nDFXjpZ"
      },
      "execution_count": null,
      "outputs": []
    },
    {
      "cell_type": "markdown",
      "source": [
        "draw_fruits( )이라는 함수를 프로그램 내에서 정의했음. 이 함수는 (샘플 갯수,너비,높이)의 3차원 배열을 입력받아 가로로 한 줄에 10개씩 이미지를 출력하는 일을 함.\n",
        "\n",
        "matplotlib의 subplots() 함수를 이용하면 여러 개의 그래프를 배열처럼 쌓을 수 있음. 파라미터로서 행과 열의 갯수를 지정함. 그림 크기인 figsize는 ratio 파라미터에 비례해 커짐. 기본 값으로 1을 주었음.   \n",
        "\n",
        "matplotlib의 imshow()를 이용하면 넘파이 배열로 저장된 이미지를 그릴 수 있음.  \n",
        "cmap은 출력 그림의 색상인데 회색으로 지정했음. axis('off')는 과일 그림에 테두리가 없이 그리라는 것임."
      ],
      "metadata": {
        "id": "3uKJsjuiXlBO"
      }
    },
    {
      "cell_type": "code",
      "source": [
        "## fruits 배열에서 K-means 알고리즘을 통해 0이라고 라벨링된 이미지들이 어떤 값들인지 보여줌.\n",
        "print(km.labels_==0)"
      ],
      "metadata": {
        "id": "U-7jBk9GXl5W"
      },
      "execution_count": null,
      "outputs": []
    },
    {
      "cell_type": "code",
      "source": [
        "draw_fruits(fruits[km.labels_==0])\n",
        "draw_fruits(fruits[km.labels_==1])\n",
        "draw_fruits(fruits[km.labels_==2])\n"
      ],
      "metadata": {
        "id": "UHHaWOdGXm_K"
      },
      "execution_count": null,
      "outputs": []
    },
    {
      "cell_type": "markdown",
      "source": [
        "앞에서 정의했던 draw_fruits() 함수를 이용해서 레이블이 각각 0,1,2인 과일들을 출력해 보겠음\n",
        "\n",
        "사과 군집에는 100% 사과만 들어 있지만, 파인애플과 바나나의 경우 다른 군집의 과일이 포함되어 있음. 모델이 100% 정확하게 군집화시키지는 못했음\n",
        "\n",
        "그러나 전혀 알려주지 않았음에도 불구하고 모델이 이 정도로 정확히 같은 종류의 과일을 잘 모아 clustering 하였음"
      ],
      "metadata": {
        "id": "wUaaprDwXoK_"
      }
    },
    {
      "cell_type": "code",
      "source": [
        "# 최적의 k 찾기\n",
        "inertia = []\n",
        "for k in range(2,7) :\n",
        "  km = KMeans(n_clusters=k, random_state=42)\n",
        "  km.fit(fruits_2d)\n",
        "  inertia.append(km.inertia_)\n",
        "plt.plot(range(2,7), inertia)\n",
        "plt.xlabel('k')\n",
        "plt.ylabel('inertia')\n",
        "plt.show()\n"
      ],
      "metadata": {
        "id": "MbDmL_gaXpwf"
      },
      "execution_count": null,
      "outputs": []
    },
    {
      "cell_type": "markdown",
      "source": [
        "k-means 알고리듬 단점 중의 하나는 클러스터 k 갯수를 미리 지정해 주어야 한다는 것임. 이번 예제에서는 과일 종류가 세 가지라는 것을 미리 알고 있어서 k값을 정해 줄 수 있었지만, 그렇지 못한 경우가 많이 있음. 실전에서 k 를 모를 때 많이 쓰는 방법이 엘보우(elbow) 방법임\n",
        "\n",
        "k-means 알고리듬에서 클러스터의 중심과 클러스터에 속한 샘플들 사이의 거리를 잴 수 있음. 이 거리 제곱의 합을 이너셔(inertia)라고 함. 즉 이너셔는 클러스터 내 샘플들이 얼마나 가깝게 모여있는지를 나타내는 값임. 일반적으로 클러스터 갯수가 늘어나면 이너셔도 줄어듬. 엘보우 방법은 클러스터 갯수를 늘려가면서 이너셔의 변화 추이를 관찰해 최적의 k 값을 정하는 방법임. 클러스터 갯수를 증가시키면 이너셔가 감소하는데, 감소 속도가 꺾이는 지점이 있음. 이 때의 k 값을 택하는 방법임"
      ],
      "metadata": {
        "id": "5_A9fVdVXqxY"
      }
    }
  ]
}