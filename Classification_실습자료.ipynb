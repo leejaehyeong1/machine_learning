{
  "nbformat": 4,
  "nbformat_minor": 0,
  "metadata": {
    "colab": {
      "provenance": [],
      "authorship_tag": "ABX9TyNNMWpcPjd1ijBbH4VjtMg1",
      "include_colab_link": true
    },
    "kernelspec": {
      "name": "python3",
      "display_name": "Python 3"
    },
    "language_info": {
      "name": "python"
    }
  },
  "cells": [
    {
      "cell_type": "markdown",
      "metadata": {
        "id": "view-in-github",
        "colab_type": "text"
      },
      "source": [
        "<a href=\"https://colab.research.google.com/github/leejaehyeong1/machine_learning/blob/main/Classification_%EC%8B%A4%EC%8A%B5%EC%9E%90%EB%A3%8C.ipynb\" target=\"_parent\"><img src=\"https://colab.research.google.com/assets/colab-badge.svg\" alt=\"Open In Colab\"/></a>"
      ]
    },
    {
      "cell_type": "markdown",
      "source": [
        "# K-최근접 이웃 (KNN) 알고리즘을 활용한 Classification\n",
        "## 1. 데이터 준비"
      ],
      "metadata": {
        "id": "_-I2e7kgW6AY"
      }
    },
    {
      "cell_type": "code",
      "execution_count": null,
      "metadata": {
        "id": "voeqrBIHW1UD"
      },
      "outputs": [],
      "source": [
        "import numpy as np\n",
        "\n",
        "# 35개의 도미 데이터와 14개의 빙어 데이터 준비\n",
        "\n",
        "# 물고기 길이 데이터 (cm)\n",
        "fish_length = [25.4, 26.3, 26.5, 29.0, 29.0, 29.7, 29.7, 30.0, 30.0, 30.7,\n",
        "               31.0, 31.0, 31.5, 32.0, 32.0, 32.0, 33.0, 33.0, 33.5, 33.5,\n",
        "               34.0, 34.0, 34.5, 35.0, 35.0, 35.0, 35.0, 36.0, 36.0, 37.0,\n",
        "               38.5, 38.5, 39.5, 41.0, 41.0,\n",
        "               9.8, 10.5, 10.6, 11.0, 11.2, 11.3, 11.8, 11.8, 12.0, 12.2,\n",
        "               12.4, 13.0, 14.3, 15.0]\n",
        "\n",
        "# 물고기 무게 데이터 (g)\n",
        "fish_weight = [242.0, 290.0, 340.0, 363.0, 430.0, 450.0, 500.0, 390.0, 450.0, 500.0,\n",
        "               475.0, 500.0, 500.0, 340.0, 600.0, 600.0, 700.0, 700.0, 610.0, 650.0,\n",
        "               575.0, 685.0, 620.0, 680.0, 700.0, 725.0, 720.0, 714.0, 850.0, 1000.0,\n",
        "               920.0, 955.0, 925.0, 975.0, 950.0,\n",
        "               6.7, 7.5, 7.0, 9.7, 9.8, 8.7, 10.0, 9.9, 9.8, 12.2,\n",
        "               13.4, 12.2, 19.7, 19.9]\n",
        "\n",
        "# np.column_stack() 함수를 사용하여 길이와 무게 데이터를 배열 형태로 생성\n",
        "fish_data = np.column_stack((fish_length, fish_weight))\n",
        "\n",
        "# 타겟 데이터 생성 (1: 도미, 0: 빙어)\n",
        "# np.ones(35): 35개의 1(도미)로 이루어진 배열 생성\n",
        "# np.zeros(14): 14개의 0(빙어)로 이루어진 배열 생성\n",
        "# np.concatenate(): 두 배열을 연결\n",
        "fish_target = np.concatenate((np.ones(35), np.zeros(14)))\n",
        "print(fish_target)"
      ]
    },
    {
      "cell_type": "markdown",
      "source": [
        "도미 35마리와 빙어 14마리 등 총 49개의 길이와 무게 데이터가 리스트(도미, 빙어 순으로 나열)로 만들어져 있음\n",
        "\n",
        "넘파이의 column_stack() 함수를 써서 전달받은 리스트를 일렬로 세운 다음, 차례대로 연결해 배열 형태로 만듦. 예를 들어 np.column_stack(([1,2,3], [4,5,6])) 하면 결과는 array([[1,4],[2,5],[3,6]]) 이 됨"
      ],
      "metadata": {
        "id": "Yeo2NsPxXCS5"
      }
    },
    {
      "cell_type": "markdown",
      "source": [
        "## 2. 데이터 분리\n",
        "\n"
      ],
      "metadata": {
        "id": "NQFf4ZsLXDo3"
      }
    },
    {
      "cell_type": "code",
      "source": [
        "from sklearn.model_selection import train_test_split\n",
        "\n",
        "# 데이터를 훈련 세트와 테스트 세트로 분리\n",
        "\n",
        "# stratify=fish_target: 타겟 데이터의 비율을 유지하면서 분할\n",
        "# random_state=42: 난수 시드 생성\n",
        "\n",
        "train_input, test_input, train_target, test_target = train_test_split(\n",
        "    fish_data, fish_target, stratify=fish_target, random_state=42)\n",
        "\n",
        "print(train_target)\n",
        "print(test_target)"
      ],
      "metadata": {
        "id": "VlNmWZlwXCyY"
      },
      "execution_count": null,
      "outputs": []
    },
    {
      "cell_type": "markdown",
      "source": [
        "train_test_split 함수는 사이킷런의 model_selection 모듈 안에 있는데 이 함수는 전달되는 리스트(list)나 배열(array)을 비율(default 75:25)에 맞게 훈련 세트와 테스트 세트로 나눠 줌.\n",
        "\n",
        "stratify=fish_target 하면 전달한 데이터 내 클래스(1,0)의 비율에 맞춰 적절하게 훈련 세트와 테스트 세트로 도미와 빙어 데이터가 섞이도록 나눔."
      ],
      "metadata": {
        "id": "lDs93b0GXIxg"
      }
    },
    {
      "cell_type": "markdown",
      "source": [
        "## 3. 모델 훈련 및 평가"
      ],
      "metadata": {
        "id": "ZXzDlbp1XJTI"
      }
    },
    {
      "cell_type": "code",
      "source": [
        "from sklearn.neighbors import KNeighborsClassifier\n",
        "\n",
        "# KNeighborsClassifier 객체 생성\n",
        "kn = KNeighborsClassifier()\n",
        "\n",
        "# 훈련 데이터로 모델 학습\n",
        "kn.fit(train_input, train_target)\n",
        "\n",
        "# 테스트 데이터로 모델 평가 및 정확도 출력\n",
        "# 결과값은 0.0 (0%) ~ 1.0 (100%) 으로 표시됨\n",
        "print(kn.score(test_input, test_target))\n",
        "\n",
        "# 새로운 데이터(길이 18cm, 무게 30g)에 대한 예측 수행 및 결과 출력\n",
        "# 결과값이 1 이면 도미, 0 이면 빙어\n",
        "print(kn.predict([[18, 30]]))"
      ],
      "metadata": {
        "id": "LO7LTs47XHDY"
      },
      "execution_count": null,
      "outputs": []
    },
    {
      "cell_type": "markdown",
      "source": [
        "## 4. 그래프 그리기"
      ],
      "metadata": {
        "id": "VNm9HNcoXMhX"
      }
    },
    {
      "cell_type": "code",
      "source": [
        "# 데이터 시각화를 위한 matplotlib 임포트\n",
        "import matplotlib.pyplot as plt\n",
        "\n",
        "# 훈련 데이터 산점도 그리기\n",
        "plt.scatter(train_input[:, 0], train_input[:, 1])\n",
        "\n",
        "# 새로운 데이터 포인트 (18, 30) 표시 (삼각형 마커 사용)\n",
        "plt.scatter(18, 30, marker='^')\n",
        "\n",
        "# x, y축 레이블 설정\n",
        "plt.xlabel('Length')\n",
        "plt.ylabel('Weight')\n",
        "\n",
        "# 그래프 표시\n",
        "plt.show()"
      ],
      "metadata": {
        "id": "PrajAN1vXNYT"
      },
      "execution_count": null,
      "outputs": []
    },
    {
      "cell_type": "markdown",
      "source": [
        "학습용 데이터인 train_input에 대해 학습한 결과 모델 kn이 얻어졌음. 이제 학습한 모델이 얼마나 잘 동작하는지, 시험용 데이터(학습 데이터가 아닌 다른 데이터)인 test_input에 대해서 시험해 보겠음. kn의 test set에 대한 시험 결과 score를 print하여 성적을 알아 봄. 결과가 1.0 임. 100%, 100점임. 아주 잘 했음!!!\n",
        "\n",
        "다음 길이 18, 무게 30 짜리 새로운 물고기가 어느 그룹으로 분류되는지 예상해 봄. 새로운 데이터 하나에 대한 결과 값을 예측하는 함수 predict()를 이용함. 이 함수의 인자는 리스트의 리스트 형태임. 결과가 0 이면 빙어를 의미함\n",
        "\n",
        "이제 데이터들의 관계를 그래프로 표현하겠음. 점들을 그래프에 배치시키는 scatter() 함수를 이용함. x,y 축의 레이블을 정해주고 show() 함수를 써서 그래프를 그림"
      ],
      "metadata": {
        "id": "tfiJ7qOGXOqr"
      }
    }
  ]
}